{
 "cells": [
  {
   "cell_type": "code",
   "execution_count": 1,
   "id": "72aeade8",
   "metadata": {},
   "outputs": [],
   "source": [
    "import numpy as np\n",
    "import matplotlib.pyplot as plt\n",
    "import pandas as pd"
   ]
  },
  {
   "cell_type": "code",
   "execution_count": 2,
   "id": "c5a328f1",
   "metadata": {},
   "outputs": [
    {
     "data": {
      "text/plain": [
       "(10000, 1)"
      ]
     },
     "execution_count": 2,
     "metadata": {},
     "output_type": "execute_result"
    }
   ],
   "source": [
    "trainData=pd.read_csv(\"A2Q2Data_train.csv\",header=None)\n",
    "testData=pd.read_csv(\"A2Q2Data_test.csv\",header=None)\n",
    "X=trainData.iloc[:,:-1]\n",
    "X_test=testData.iloc[:,:-1]\n",
    "y=trainData.iloc[:,-1].to_frame()\n",
    "y_test=testData.iloc[:,-1].to_frame()\n",
    "X_test.head()\n",
    "# data.head()\n",
    "y.shape"
   ]
  },
  {
   "cell_type": "markdown",
   "id": "dc583d98",
   "metadata": {},
   "source": [
    "# Analytic solution is : "
   ]
  },
  {
   "cell_type": "code",
   "execution_count": 3,
   "id": "2ad46900",
   "metadata": {},
   "outputs": [],
   "source": [
    "X=X.to_numpy()\n",
    "y=y.to_numpy()\n",
    "X_test=X_test.to_numpy()\n",
    "X_test=X_test.transpose()\n",
    "X=X.transpose()\n",
    "y_test=y_test.to_numpy()\n",
    "w_ml = np.linalg.inv(X @ X.transpose()) @ X @y"
   ]
  },
  {
   "cell_type": "code",
   "execution_count": 4,
   "id": "f61822b5",
   "metadata": {},
   "outputs": [
    {
     "data": {
      "text/plain": [
       "(100, 1)"
      ]
     },
     "execution_count": 4,
     "metadata": {},
     "output_type": "execute_result"
    }
   ],
   "source": [
    "w_ml.shape"
   ]
  },
  {
   "cell_type": "code",
   "execution_count": 5,
   "id": "f3f47f17",
   "metadata": {},
   "outputs": [
    {
     "name": "stdout",
     "output_type": "stream",
     "text": [
      "[[396.86441863]]\n"
     ]
    }
   ],
   "source": [
    "def errorFunction(X,w,y):\n",
    "    errorVector=X.transpose()@w - y\n",
    "    error = errorVector.transpose() @ errorVector\n",
    "    return error;\n",
    "\n",
    "print(errorFunction(X,w_ml,y))"
   ]
  },
  {
   "cell_type": "code",
   "execution_count": 6,
   "id": "4f99eb65",
   "metadata": {},
   "outputs": [
    {
     "name": "stdout",
     "output_type": "stream",
     "text": [
      "[[185.36365558]]\n"
     ]
    }
   ],
   "source": [
    "print(errorFunction(X_test,w_ml,y_test))"
   ]
  },
  {
   "cell_type": "markdown",
   "id": "0a356083",
   "metadata": {},
   "source": [
    "# Linear regression using gradient decent"
   ]
  },
  {
   "cell_type": "code",
   "execution_count": 8,
   "id": "5643c0cd",
   "metadata": {
    "scrolled": false
   },
   "outputs": [
    {
     "data": {
      "image/png": "[encoded data removed]",
      "text/plain": [
       "<Figure size 432x288 with 1 Axes>"
      ]
     },
     "metadata": {
      "needs_background": "light"
     },
     "output_type": "display_data"
    },
    {
     "data": {
      "image/png": "[encoded data removed]",
      "text/plain": [
       "<Figure size 432x288 with 1 Axes>"
      ]
     },
     "metadata": {
      "needs_background": "light"
     },
     "output_type": "display_data"
    },
    {
     "name": "stdout",
     "output_type": "stream",
     "text": [
      "[[396.865273]]\n",
      "[[185.31602672]]\n"
     ]
    }
   ],
   "source": [
    "def converge(w1,w2):\n",
    "    if np.linalg.norm(w1-w2)**2 <= 0.0000001 :\n",
    "        return True\n",
    "    return False\n",
    "def derivative(X,y,w):\n",
    "    return 2*(((X @ X.transpose()) @ w) - (X@y))\n",
    "\n",
    "def computeNewW(X,y,w,step):\n",
    "    der=derivative(X,y,w)\n",
    "#     newW = w - step*(der)/np.linalg.norm(der)\n",
    "    newW=w - step*der\n",
    "    return newW;\n",
    "\n",
    "def plot(x,y,xlabel=\"X\",ylabel=\"Y\",title=\"\"):\n",
    "    plt.plot(x,y)\n",
    "    plt.xlabel(xlabel)\n",
    "    plt.ylabel(ylabel)\n",
    "    plt.title(title)\n",
    "    plt.show()\n",
    "    \n",
    "def diffWithMl(w):\n",
    "    diff= w_ml-w\n",
    "#     return diff.transpose() @ diff\n",
    "    return np.linalg.norm(diff)\n",
    "    \n",
    "# commented line conains various trial and errors of different methods\n",
    "def gradientDecent(X,y,step):\n",
    "    t=0\n",
    "    iterations=[]\n",
    "    errors=[]\n",
    "    diffMl=[]\n",
    "    np.random.seed(2)\n",
    "    w=np.random.rand(100,1)\n",
    "#     w=np.zeros([100,1])\n",
    "    prevError = errorFunction(X,w,y);\n",
    "    prevW=w\n",
    "    while(True):\n",
    "        w=computeNewW(X,y,w,step)\n",
    "        currError=errorFunction(X,w,y);\n",
    "        if(currError[0][0] == np.inf):\n",
    "            break\n",
    "        iterations.append(t)\n",
    "        errors.append(prevError[0][0])\n",
    "        diffMl.append(diffWithMl(w))\n",
    "        if(abs(prevError - currError) <= 0.00001):\n",
    "            break\n",
    "#         if(converge(w,prevW)):\n",
    "#             break\n",
    "        prevW=w\n",
    "        prevError=currError\n",
    "        t+=1\n",
    "#         step=(1/t)*0.0005\n",
    "\n",
    "    plot(iterations,errors,\"iterations\",\"Squared Error\",\"iteration vs error\")\n",
    "    plot(iterations,diffMl,\"iterations\",\"| Wᵗ - Wₘₗ |\",\"iteration\")\n",
    "    return w\n",
    "\n",
    "\n",
    "step=0.0000039\n",
    "# step=1/60000\n",
    "w=gradientDecent(X,y,step)    \n",
    "print(errorFunction(X,w,y))\n",
    "print(errorFunction(X_test,w,y_test))"
   ]
  },
  {
   "cell_type": "markdown",
   "id": "1786280d",
   "metadata": {},
   "source": [
    "# Stochastic gradient decent"
   ]
  },
  {
   "cell_type": "code",
   "execution_count": 9,
   "id": "6fcef2b2",
   "metadata": {
    "scrolled": false
   },
   "outputs": [
    {
     "data": {
      "image/png": "[encoded data removed]",
      "text/plain": [
       "<Figure size 432x288 with 1 Axes>"
      ]
     },
     "metadata": {
      "needs_background": "light"
     },
     "output_type": "display_data"
    },
    {
     "data": {
      "image/png": "[encoded data removed]",
      "text/plain": [
       "<Figure size 432x288 with 1 Axes>"
      ]
     },
     "metadata": {
      "needs_background": "light"
     },
     "output_type": "display_data"
    },
    {
     "name": "stdout",
     "output_type": "stream",
     "text": [
      "[[468.97357916]]\n",
      "[[176.37419973]]\n"
     ]
    }
   ],
   "source": [
    "def converge(w1,w2):\n",
    "    if np.linalg.norm(w1-w2)**2 <= 0.1 :\n",
    "        return True\n",
    "    return False\n",
    "def stochasticGradientDecent(X,y,step,batchSize):\n",
    "    t=0\n",
    "    iterations=[]\n",
    "    errors=[]\n",
    "    diffMl=[]\n",
    "    count=0\n",
    "    np.random.seed(2)\n",
    "    w=np.random.rand(100,1)\n",
    "    s=w\n",
    "    count+=1\n",
    "    prevError = errorFunction(X,w,y);\n",
    "    w_new=w\n",
    "    prevW=w\n",
    "    while(True):\n",
    "        iterations.append(t)\n",
    "        errors.append(prevError[0][0])\n",
    "        diffMl.append(diffWithMl(w_new))\n",
    "        \n",
    "        indexes=np.random.randint(X.shape[1], size=batchSize)\n",
    "#         print(indexes)\n",
    "        X_batch=X[:,indexes]\n",
    "        y_batch=y[indexes,:]\n",
    "        \n",
    "#         print(X_batch,y_batch)\n",
    "        w_new=computeNewW(X_batch,y_batch,w_new,step)\n",
    "        s=s+w_new\n",
    "        count+=1\n",
    "        currError=errorFunction(X,w_new,y);\n",
    "        if(currError[0][0] == np.inf or abs(prevError - currError) <= 0.00001):\n",
    "#             print(\"hello\")\n",
    "            break\n",
    "#         if(converge(w_new,prevW)):\n",
    "#             break\n",
    "        prewW=w_new\n",
    "        prevError=currError\n",
    "        t+=1\n",
    "\n",
    "    \n",
    "    plot(iterations,errors,\"iterations\",\"Squared Error\",\"iteration vs error\")\n",
    "    plot(iterations,diffMl,\"iterations\",\"| Wᵗ - Wₘₗ |\",\"iteration\")\n",
    "    w_avg=s/count\n",
    "    \n",
    "    return w_avg;\n",
    "\n",
    "batchSize=100\n",
    "step=0.000039\n",
    "# step=0.01\n",
    "w=stochasticGradientDecent(X,y,step,batchSize)\n",
    "print(errorFunction(X,w,y))\n",
    "print(errorFunction(X_test,w,y_test))\n",
    "\n",
    "    "
   ]
  },
  {
   "cell_type": "markdown",
   "id": "41b52112",
   "metadata": {},
   "source": [
    "# Ridge regression"
   ]
  },
  {
   "cell_type": "code",
   "execution_count": null,
   "id": "2965f211",
   "metadata": {
    "scrolled": true
   },
   "outputs": [],
   "source": [
    "import random\n",
    "random.seed(10)\n",
    "\n",
    "def ridgeError(X,y,w):\n",
    "    errorVector=X.transpose()@w - y\n",
    "    error = (errorVector.transpose() @ errorVector)\n",
    "    return error;\n",
    "\n",
    "def derivative(X,y,w,lambdaValue):\n",
    "    return 2*(((X @ X.transpose()) @ w) - (X@y) + lambdaValue*w)\n",
    "\n",
    "def computeNewW(X,y,w,lambdaValue,step):\n",
    "    newW = w - step*derivative(X,y,w,lambdaValue)\n",
    "    return newW;\n",
    "\n",
    "def plot(x,y,xlabel=\"X\",ylabel=\"Y\"):\n",
    "    plt.plot(x,y)\n",
    "    plt.xlabel(xlabel)\n",
    "    plt.ylabel(ylabel)\n",
    "    plt.show()\n",
    "    \n",
    "def diffWithMl(w):\n",
    "    diff= w_ml-w\n",
    "    return diff.transpose() @ diff\n",
    "    \n",
    "    \n",
    "def ridgeGradientDecent(X,y,step,lambdaValue):\n",
    "    t=1\n",
    "#     iterations=[]\n",
    "#     errors=[]\n",
    "#     diffMl=[]\n",
    "    np.random.seed(2)\n",
    "    w=np.random.rand(100,1)\n",
    "#     w=np.zeros([100,1])\n",
    "    prevError = ridgeError(X,y,w);\n",
    "    while(True):\n",
    "        w=computeNewW(X,y,w,lambdaValue,step)\n",
    "        currError=ridgeError(X,y,w);\n",
    "        if(currError[0][0] == np.inf):\n",
    "            break\n",
    "#         print(prevError)\n",
    "#         iterations.append(t)\n",
    "#         errors.append(prevError[0][0])\n",
    "#         diffMl.append(diffWithMl(w)[0][0])\n",
    "        if(abs(prevError - currError) <= 0.000001):\n",
    "            break\n",
    "        prevError=currError\n",
    "        t+=1\n",
    "#         step=(1/t)*0.0005\n",
    "#     print(iterations,errors)\n",
    "#     plot(iterations,errors,\"iterations\",\"Squared Error\")\n",
    "#     plot(iterations,diffMl,\"iterations\",\"Squared Error with $w_{ML}$\")\n",
    "    return w\n",
    "\n",
    "def kFoldValidation(X,y,k,lambdaValue):\n",
    "    indexes=[i for i in range(X.shape[1])]\n",
    "    random.seed(2)\n",
    "    random.shuffle(indexes)\n",
    "    validateErrorSum=0;\n",
    "    trainErrorSum=0;\n",
    "    step=0.0000039\n",
    "    count=0\n",
    "#     lambdaMatrix=np.identity(X.shape[0]) * lambdaValue\n",
    "    for i in range(0,X.shape[1],k):\n",
    "        X_validate=X[:,indexes[i:i+k]]\n",
    "        y_validate=y[indexes[i:i+k],:]\n",
    "        X_train=X[:,indexes[0:i] + indexes[i+k:]]\n",
    "        y_train=y[indexes[0:i] + indexes[i+k:],:]\n",
    "#         X_train.shape\n",
    "        w=ridgeGradientDecent(X_train,y_train,step,lambdaValue)\n",
    "        trainErrorSum+=ridgeError(X_train,y_train,w,)\n",
    "        validateErrorSum+=ridgeError(X_validate,y_validate,w)\n",
    "        count+=1\n",
    "    \n",
    "    return trainErrorSum/count , validateErrorSum/count\n",
    "        \n",
    "        \n",
    "minValidError=np.inf\n",
    "lambdaValue=-1\n",
    "k=1000 \n",
    "lambdaList=[]\n",
    "validateErrorList=[]\n",
    "# eigenval,_=np.linalg.eig(X@X.transpose())\n",
    "for i in np.arange(1,100,1):\n",
    "# for i in eigenval:\n",
    "    trainError,validateError=kFoldValidation(X,y,k,i)\n",
    "    lambdaList.append(i)\n",
    "    validateErrorList.append(validateError[0][0])\n",
    "    print(i)\n",
    "    if(minValidError > validateError):\n",
    "        minValidError=validateError\n",
    "        lambdaValue=i \n",
    "\n",
    "# lambdaValue=2500\n",
    "step=0.0000039\n",
    "print(lambdaValue)\n",
    "plot(lambdaList,validateErrorList,xlabel=\"lambdas\",ylabel=\"validation errors\")\n",
    "# lambdaMatrix=np.identity(X.shape[0]) * lambdaValue\n",
    "# w=np.linalg.inv(X @ X.transpose() + lambdaMatrix) @ X @y\n",
    "w=ridgeGradientDecent(X,y,step,lambdaValue)\n",
    "\n",
    "print(ridgeError(X,y,w))\n",
    "print(ridgeError(X_test,y_test,w))\n"
   ]
  },
  {
   "cell_type": "code",
   "execution_count": null,
   "id": "fe93ecab",
   "metadata": {},
   "outputs": [],
   "source": [
    "w=ridgeGradientDecent(X,y,step,lambdaValue)\n",
    "\n",
    "print(ridgeError(X,y,w))\n",
    "print(ridgeError(X_test,y_test,w))"
   ]
  }
 ],
 "metadata": {
  "kernelspec": {
   "display_name": "Python 3 (ipykernel)",
   "language": "python",
   "name": "python3"
  },
  "language_info": {
   "codemirror_mode": {
    "name": "ipython",
    "version": 3
   },
   "file_extension": ".py",
   "mimetype": "text/x-python",
   "name": "python",
   "nbconvert_exporter": "python",
   "pygments_lexer": "ipython3",
   "version": "3.8.8"
  }
 },
 "nbformat": 4,
 "nbformat_minor": 5
}
